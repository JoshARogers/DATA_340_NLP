{
  "nbformat": 4,
  "nbformat_minor": 0,
  "metadata": {
    "colab": {
      "provenance": [],
      "mount_file_id": "16y7vyuaE6BVQmNfq4_1IOl1T1z1cDp5s",
      "authorship_tag": "ABX9TyMgYoHx5+N7J/LQL0ibI2ol",
      "include_colab_link": true
    },
    "kernelspec": {
      "name": "python3",
      "display_name": "Python 3"
    },
    "language_info": {
      "name": "python"
    }
  },
  "cells": [
    {
      "cell_type": "markdown",
      "metadata": {
        "id": "view-in-github",
        "colab_type": "text"
      },
      "source": [
        "<a href=\"https://colab.research.google.com/github/JoshARogers/DATA_340_NLP/blob/main/hw2/HW2_Report.ipynb\" target=\"_parent\"><img src=\"https://colab.research.google.com/assets/colab-badge.svg\" alt=\"Open In Colab\"/></a>"
      ]
    },
    {
      "cell_type": "markdown",
      "source": [
        "# Homework 2 - Small Worlds\n",
        "### Joshua Rogers\n",
        "### DATA 340-02, Spring 2023\n",
        "### February 23, 2023"
      ],
      "metadata": {
        "id": "xYvDnWjVqmIg"
      }
    },
    {
      "cell_type": "markdown",
      "source": [
        "## Q1\n",
        "Go through the [tutorial on Small worlds](https://github.com/anwala/teaching-network-science/blob/main/spring-2023/week-3/data_340_02_s23_chp_02_small_worlds.ipynb).\n",
        "\n",
        "Perform exercises 1 -- 3"
      ],
      "metadata": {
        "id": "khaaX2qfrbCG"
      }
    },
    {
      "cell_type": "markdown",
      "source": [
        "### Answer"
      ],
      "metadata": {
        "id": "-khjhthItqsY"
      }
    },
    {
      "cell_type": "code",
      "execution_count": 58,
      "metadata": {
        "id": "Yg3B2qxlqEev"
      },
      "outputs": [],
      "source": [
        "import networkx as nx\n",
        "%matplotlib inline"
      ]
    },
    {
      "cell_type": "code",
      "source": [
        "G = nx.read_graphml('/content/drive/MyDrive/openflights_usa.graphml.gz')"
      ],
      "metadata": {
        "id": "UOR8Z3wEt6VT"
      },
      "execution_count": 59,
      "outputs": []
    },
    {
      "cell_type": "markdown",
      "source": [
        "#### Exercise 1\n",
        "\n",
        "Is there a direct flight between Indianapolis and Fairbanks, Alaska (FAI)? A direct flight is one with no intermediate stops.\n",
        "\n"
      ],
      "metadata": {
        "id": "4j2VnZ0U9g6m"
      }
    },
    {
      "cell_type": "code",
      "source": [
        "nx.shortest_path(G, 'IND', 'FAI')"
      ],
      "metadata": {
        "colab": {
          "base_uri": "https://localhost:8080/"
        },
        "id": "Mp4-uRHN9qvv",
        "outputId": "bd319023-6b9c-4919-ef88-19691d5834ab"
      },
      "execution_count": 60,
      "outputs": [
        {
          "output_type": "execute_result",
          "data": {
            "text/plain": [
              "['IND', 'BOS', 'SEA', 'FAI']"
            ]
          },
          "metadata": {},
          "execution_count": 60
        }
      ]
    },
    {
      "cell_type": "markdown",
      "source": [
        "#### Exercise 2\n",
        "\n",
        "If I wanted to fly from Indianapolis to Fairbanks, Alaska what would be an itinerary with the fewest number of flights?\n",
        "\n"
      ],
      "metadata": {
        "id": "8uMqq5UcxbHC"
      }
    },
    {
      "cell_type": "code",
      "source": [
        "nx.shortest_path(G, 'IND', 'FAI')"
      ],
      "metadata": {
        "colab": {
          "base_uri": "https://localhost:8080/"
        },
        "id": "M8r8sB9pwbRR",
        "outputId": "85ebe863-d229-4cd9-afbb-6f2ee836d42e"
      },
      "execution_count": 61,
      "outputs": [
        {
          "output_type": "execute_result",
          "data": {
            "text/plain": [
              "['IND', 'BOS', 'SEA', 'FAI']"
            ]
          },
          "metadata": {},
          "execution_count": 61
        }
      ]
    },
    {
      "cell_type": "markdown",
      "source": [
        "#### Exercise 3\n",
        "\n",
        "Is it possible to travel from any airport in the US to any other airport in the US, possibly using connecting flights? In other words, does there exist a path in the network between every possible pair of airports?"
      ],
      "metadata": {
        "id": "9uctobO79nYo"
      }
    },
    {
      "cell_type": "code",
      "source": [
        "nx.is_connected(G)"
      ],
      "metadata": {
        "colab": {
          "base_uri": "https://localhost:8080/"
        },
        "id": "HHrIbRnI8ABh",
        "outputId": "62aa660e-1236-4875-cfa4-bbd07853e073"
      },
      "execution_count": 62,
      "outputs": [
        {
          "output_type": "execute_result",
          "data": {
            "text/plain": [
              "False"
            ]
          },
          "metadata": {},
          "execution_count": 62
        }
      ]
    },
    {
      "cell_type": "code",
      "source": [
        "list(nx.connected_components(G))"
      ],
      "metadata": {
        "id": "qpyUAsHLx-8s"
      },
      "execution_count": null,
      "outputs": []
    },
    {
      "cell_type": "code",
      "source": [
        "nx.has_path(G, 'BOS', 'AKB')"
      ],
      "metadata": {
        "colab": {
          "base_uri": "https://localhost:8080/"
        },
        "id": "TT75DDBPxr4t",
        "outputId": "99f5438e-5051-4daf-9b4f-18328c9b7f7d"
      },
      "execution_count": 64,
      "outputs": [
        {
          "output_type": "execute_result",
          "data": {
            "text/plain": [
              "False"
            ]
          },
          "metadata": {},
          "execution_count": 64
        }
      ]
    },
    {
      "cell_type": "markdown",
      "source": [
        "### Discussion\n",
        "\n",
        "Exercise 1: To find out if there was a direct path from Indianapolis to Fairbanks, I used the shortest path function, which finds the shortest path between two nodes. The shortest path found has has two \"layovers\", which would mean that there is not a direct flight between the two locations. \n",
        "\n",
        "Exercise 2: Just as I did in Exercise 2, I used shortest path to find an itinerary with the fewest possible number of flights. It pulled an itinerary with two layovers: one in Boston, and one in Seattle. In this case, the path length would be 3. \n",
        "\n",
        "Exercise 3. In this exercise, I used the is_connected function to see if the this graph is completely connected. The item returned false, which means that the graph wasn't completely connected. Then, I retrieved a list of connected comoponents, which returned several airports not connected with the rest. Lastly, I tested to see if there was a path between Boston international (BOS) Atka (Alaska) Airport (AKB). Since that returned false, that confirmed what nx.is_connected returned. "
      ],
      "metadata": {
        "id": "lBxw0whquMsP"
      }
    },
    {
      "cell_type": "markdown",
      "source": [
        "## Q2\n",
        "\n",
        "What is the central idea behind the notion of \"six degrees of separation\"? \n",
        "\n",
        "a. Social networks have high clustering coefficients\n",
        "\n",
        "b. Social networks are sparse\n",
        "\n",
        "c. Social networks have many high-degree nodes\n",
        "\n",
        "d. Social networks have small average path lengths\n",
        "\n",
        "Why?"
      ],
      "metadata": {
        "id": "p_TAjTey-DfE"
      }
    },
    {
      "cell_type": "markdown",
      "source": [
        "### Answer\n",
        "\n",
        "d. Social networks have small average path lengths"
      ],
      "metadata": {
        "id": "YyPWB3eWy1pV"
      }
    },
    {
      "cell_type": "markdown",
      "source": [
        "### Discussion\n",
        "\n",
        "The idea of six degrees of seperation is that at most, two people are six links away from each other. An example of this would be Milgram's experiment, where he tried to find the degree of seperation for two individuals in Massachusetts. After sending letters in Omaha and Wichita, the average degree of seperation in the experiment was 6.5. As was discussed in class, this average degree of seperation was significantly lower then expected. Therefore, the idea that everyone can be that connected (or in other words, having a small average path length) is the central idea behind six degrees of seperation. "
      ],
      "metadata": {
        "id": "vPBjjCebeSvf"
      }
    },
    {
      "cell_type": "markdown",
      "source": [
        "## Q3\n",
        "\n",
        "Use The [Oracle of Bacon](http://oracleofbacon.org/) to measure the shortest-path distance in the co-star network among at least 10 pairs of obscure actors and actresses as you can think of. Plot a histogram showing the distribution of the shortest-path lengths, and also estimate the average path length based on your sample."
      ],
      "metadata": {
        "id": "uHnKcyhF-GP8"
      }
    },
    {
      "cell_type": "markdown",
      "source": [
        "### Answer"
      ],
      "metadata": {
        "id": "9CrEsen80Rob"
      }
    },
    {
      "cell_type": "code",
      "source": [
        "import pandas as pd\n",
        "import numpy as np\n",
        "import matplotlib.pyplot as plt\n",
        "data = pd.read_csv(\"/content/drive/MyDrive/JR_HW2_Q3.csv\")\n",
        "data\n"
      ],
      "metadata": {
        "colab": {
          "base_uri": "https://localhost:8080/",
          "height": 363
        },
        "id": "P-0Xnfz67Va4",
        "outputId": "2d690551-3ce8-4ac1-a44f-54d199d79f43"
      },
      "execution_count": null,
      "outputs": [
        {
          "output_type": "execute_result",
          "data": {
            "text/plain": [
              "   Pair            Actor 1            Actor 2  Path Length\n",
              "0     1  Nikita Bogolyubov       Arian Moayed            3\n",
              "1     2    Daniele Gaither        Nico Parker            3\n",
              "2     3   David Elsendoorn    Daniele Gaither            4\n",
              "3     4        Nico Parker  Nikita Bogolyubov            3\n",
              "4     5       Arian Moayed   David Elsendoorn            4\n",
              "5     6  Nikita Bogolyubov   David Elsendoorn            4\n",
              "6     7        Nico Parker       Arian Moayed            3\n",
              "7     8       Arian Moayed    Daniele Gaither            3\n",
              "8     9   David Elsendoorn        Nico Parker            4\n",
              "9    10    Daniele Gaither  Nikita Bogolyubov            3"
            ],
            "text/html": [
              "\n",
              "  <div id=\"df-8495f3da-4e53-4c17-b185-97c613aff7cd\">\n",
              "    <div class=\"colab-df-container\">\n",
              "      <div>\n",
              "<style scoped>\n",
              "    .dataframe tbody tr th:only-of-type {\n",
              "        vertical-align: middle;\n",
              "    }\n",
              "\n",
              "    .dataframe tbody tr th {\n",
              "        vertical-align: top;\n",
              "    }\n",
              "\n",
              "    .dataframe thead th {\n",
              "        text-align: right;\n",
              "    }\n",
              "</style>\n",
              "<table border=\"1\" class=\"dataframe\">\n",
              "  <thead>\n",
              "    <tr style=\"text-align: right;\">\n",
              "      <th></th>\n",
              "      <th>Pair</th>\n",
              "      <th>Actor 1</th>\n",
              "      <th>Actor 2</th>\n",
              "      <th>Path Length</th>\n",
              "    </tr>\n",
              "  </thead>\n",
              "  <tbody>\n",
              "    <tr>\n",
              "      <th>0</th>\n",
              "      <td>1</td>\n",
              "      <td>Nikita Bogolyubov</td>\n",
              "      <td>Arian Moayed</td>\n",
              "      <td>3</td>\n",
              "    </tr>\n",
              "    <tr>\n",
              "      <th>1</th>\n",
              "      <td>2</td>\n",
              "      <td>Daniele Gaither</td>\n",
              "      <td>Nico Parker</td>\n",
              "      <td>3</td>\n",
              "    </tr>\n",
              "    <tr>\n",
              "      <th>2</th>\n",
              "      <td>3</td>\n",
              "      <td>David Elsendoorn</td>\n",
              "      <td>Daniele Gaither</td>\n",
              "      <td>4</td>\n",
              "    </tr>\n",
              "    <tr>\n",
              "      <th>3</th>\n",
              "      <td>4</td>\n",
              "      <td>Nico Parker</td>\n",
              "      <td>Nikita Bogolyubov</td>\n",
              "      <td>3</td>\n",
              "    </tr>\n",
              "    <tr>\n",
              "      <th>4</th>\n",
              "      <td>5</td>\n",
              "      <td>Arian Moayed</td>\n",
              "      <td>David Elsendoorn</td>\n",
              "      <td>4</td>\n",
              "    </tr>\n",
              "    <tr>\n",
              "      <th>5</th>\n",
              "      <td>6</td>\n",
              "      <td>Nikita Bogolyubov</td>\n",
              "      <td>David Elsendoorn</td>\n",
              "      <td>4</td>\n",
              "    </tr>\n",
              "    <tr>\n",
              "      <th>6</th>\n",
              "      <td>7</td>\n",
              "      <td>Nico Parker</td>\n",
              "      <td>Arian Moayed</td>\n",
              "      <td>3</td>\n",
              "    </tr>\n",
              "    <tr>\n",
              "      <th>7</th>\n",
              "      <td>8</td>\n",
              "      <td>Arian Moayed</td>\n",
              "      <td>Daniele Gaither</td>\n",
              "      <td>3</td>\n",
              "    </tr>\n",
              "    <tr>\n",
              "      <th>8</th>\n",
              "      <td>9</td>\n",
              "      <td>David Elsendoorn</td>\n",
              "      <td>Nico Parker</td>\n",
              "      <td>4</td>\n",
              "    </tr>\n",
              "    <tr>\n",
              "      <th>9</th>\n",
              "      <td>10</td>\n",
              "      <td>Daniele Gaither</td>\n",
              "      <td>Nikita Bogolyubov</td>\n",
              "      <td>3</td>\n",
              "    </tr>\n",
              "  </tbody>\n",
              "</table>\n",
              "</div>\n",
              "      <button class=\"colab-df-convert\" onclick=\"convertToInteractive('df-8495f3da-4e53-4c17-b185-97c613aff7cd')\"\n",
              "              title=\"Convert this dataframe to an interactive table.\"\n",
              "              style=\"display:none;\">\n",
              "        \n",
              "  <svg xmlns=\"http://www.w3.org/2000/svg\" height=\"24px\"viewBox=\"0 0 24 24\"\n",
              "       width=\"24px\">\n",
              "    <path d=\"M0 0h24v24H0V0z\" fill=\"none\"/>\n",
              "    <path d=\"M18.56 5.44l.94 2.06.94-2.06 2.06-.94-2.06-.94-.94-2.06-.94 2.06-2.06.94zm-11 1L8.5 8.5l.94-2.06 2.06-.94-2.06-.94L8.5 2.5l-.94 2.06-2.06.94zm10 10l.94 2.06.94-2.06 2.06-.94-2.06-.94-.94-2.06-.94 2.06-2.06.94z\"/><path d=\"M17.41 7.96l-1.37-1.37c-.4-.4-.92-.59-1.43-.59-.52 0-1.04.2-1.43.59L10.3 9.45l-7.72 7.72c-.78.78-.78 2.05 0 2.83L4 21.41c.39.39.9.59 1.41.59.51 0 1.02-.2 1.41-.59l7.78-7.78 2.81-2.81c.8-.78.8-2.07 0-2.86zM5.41 20L4 18.59l7.72-7.72 1.47 1.35L5.41 20z\"/>\n",
              "  </svg>\n",
              "      </button>\n",
              "      \n",
              "  <style>\n",
              "    .colab-df-container {\n",
              "      display:flex;\n",
              "      flex-wrap:wrap;\n",
              "      gap: 12px;\n",
              "    }\n",
              "\n",
              "    .colab-df-convert {\n",
              "      background-color: #E8F0FE;\n",
              "      border: none;\n",
              "      border-radius: 50%;\n",
              "      cursor: pointer;\n",
              "      display: none;\n",
              "      fill: #1967D2;\n",
              "      height: 32px;\n",
              "      padding: 0 0 0 0;\n",
              "      width: 32px;\n",
              "    }\n",
              "\n",
              "    .colab-df-convert:hover {\n",
              "      background-color: #E2EBFA;\n",
              "      box-shadow: 0px 1px 2px rgba(60, 64, 67, 0.3), 0px 1px 3px 1px rgba(60, 64, 67, 0.15);\n",
              "      fill: #174EA6;\n",
              "    }\n",
              "\n",
              "    [theme=dark] .colab-df-convert {\n",
              "      background-color: #3B4455;\n",
              "      fill: #D2E3FC;\n",
              "    }\n",
              "\n",
              "    [theme=dark] .colab-df-convert:hover {\n",
              "      background-color: #434B5C;\n",
              "      box-shadow: 0px 1px 3px 1px rgba(0, 0, 0, 0.15);\n",
              "      filter: drop-shadow(0px 1px 2px rgba(0, 0, 0, 0.3));\n",
              "      fill: #FFFFFF;\n",
              "    }\n",
              "  </style>\n",
              "\n",
              "      <script>\n",
              "        const buttonEl =\n",
              "          document.querySelector('#df-8495f3da-4e53-4c17-b185-97c613aff7cd button.colab-df-convert');\n",
              "        buttonEl.style.display =\n",
              "          google.colab.kernel.accessAllowed ? 'block' : 'none';\n",
              "\n",
              "        async function convertToInteractive(key) {\n",
              "          const element = document.querySelector('#df-8495f3da-4e53-4c17-b185-97c613aff7cd');\n",
              "          const dataTable =\n",
              "            await google.colab.kernel.invokeFunction('convertToInteractive',\n",
              "                                                     [key], {});\n",
              "          if (!dataTable) return;\n",
              "\n",
              "          const docLinkHtml = 'Like what you see? Visit the ' +\n",
              "            '<a target=\"_blank\" href=https://colab.research.google.com/notebooks/data_table.ipynb>data table notebook</a>'\n",
              "            + ' to learn more about interactive tables.';\n",
              "          element.innerHTML = '';\n",
              "          dataTable['output_type'] = 'display_data';\n",
              "          await google.colab.output.renderOutput(dataTable, element);\n",
              "          const docLink = document.createElement('div');\n",
              "          docLink.innerHTML = docLinkHtml;\n",
              "          element.appendChild(docLink);\n",
              "        }\n",
              "      </script>\n",
              "    </div>\n",
              "  </div>\n",
              "  "
            ]
          },
          "metadata": {},
          "execution_count": 20
        }
      ]
    },
    {
      "cell_type": "code",
      "source": [
        "plt.hist(data['Path Length'], width = 0.5)\n",
        "plt.title('Path Lengths from Oracle of Bacon Sample')\n",
        "plt.xlabel('Path Length')\n",
        "plt.ylabel('Count')\n",
        "plt.xticks([2,3,4,5])\n",
        "plt.show()"
      ],
      "metadata": {
        "colab": {
          "base_uri": "https://localhost:8080/",
          "height": 295
        },
        "id": "errxcb4b9IMl",
        "outputId": "9a10e8b6-1545-4f7f-8c83-d6cf11b72e12"
      },
      "execution_count": 67,
      "outputs": [
        {
          "output_type": "display_data",
          "data": {
            "text/plain": [
              "<Figure size 432x288 with 1 Axes>"
            ],
            "image/png": "[encoded data removed]"
          },
          "metadata": {
            "needs_background": "light"
          }
        }
      ]
    },
    {
      "cell_type": "code",
      "source": [
        "mean = np.mean(data['Path Length'])\n",
        "print(\"The APL of the sample is\", mean)"
      ],
      "metadata": {
        "colab": {
          "base_uri": "https://localhost:8080/"
        },
        "id": "bWMmNgoy8dFD",
        "outputId": "b69f6ea9-3a74-46c2-a2e9-512514e697bf"
      },
      "execution_count": null,
      "outputs": [
        {
          "output_type": "stream",
          "name": "stdout",
          "text": [
            "The APL of the sample is 3.4\n"
          ]
        }
      ]
    },
    {
      "cell_type": "markdown",
      "source": [
        "### Discussion\n",
        "\n",
        "In order to perform this task, I created a CSV file with the actors names and each pairs path length. After converting it into a pandas dataframe, I used MatPlotLib to create a histogram showing the distribution of every pairs path length. After completing the chart, I used the mean function from Numpy to caculate the mean of the entire path length column, which returned an APL of 3.4. Note (Data visualization is not my strong suit so I apologize for the unpolished chart). "
      ],
      "metadata": {
        "id": "Tf6UsUlh0Qrg"
      }
    },
    {
      "cell_type": "markdown",
      "source": [
        "## References\n",
        "\n",
        "DATA 340-02 - Chapter 02 - Small worlds, https://github.com/anwala/teaching-network-science/blob/main/spring-2023/week-3/data_340_02_s23_chp_02_small_worlds.ipynb\n",
        "\n",
        "The Oracle of Bacon, http://oracleofbacon.org/"
      ],
      "metadata": {
        "id": "tJzWqFGrHEYx"
      }
    }
  ]
}